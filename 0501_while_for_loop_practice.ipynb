{
 "cells": [
  {
   "cell_type": "code",
   "execution_count": 49,
   "id": "7b516c6c",
   "metadata": {},
   "outputs": [
    {
     "name": "stdout",
     "output_type": "stream",
     "text": [
      "2\n",
      "3\n",
      "4\n",
      "5\n",
      "6\n",
      "7\n",
      "8\n",
      "9\n",
      "10\n",
      "11\n",
      "55\n"
     ]
    }
   ],
   "source": [
    "#while loop\n",
    "\n",
    "n=1\n",
    "sum=0\n",
    "\n",
    "while n<=10:\n",
    "    sum=sum+n\n",
    "    n+=1\n",
    "    print(n)\n",
    "    \n",
    "print(sum)"
   ]
  },
  {
   "cell_type": "code",
   "execution_count": 50,
   "id": "bc2a121b",
   "metadata": {},
   "outputs": [
    {
     "name": "stdout",
     "output_type": "stream",
     "text": [
      "1\n",
      "2\n",
      "3\n",
      "4\n",
      "5\n",
      "6\n",
      "7\n",
      "8\n",
      "9\n",
      "10\n",
      "55\n"
     ]
    }
   ],
   "source": [
    "#for loop\n",
    "\n",
    "sun=0\n",
    "\n",
    "for s in range(1,11):\n",
    "    sun=sun+s\n",
    "    print(s)\n",
    "\n",
    "print(sun)"
   ]
  },
  {
   "cell_type": "code",
   "execution_count": 51,
   "id": "b5d4c591",
   "metadata": {},
   "outputs": [
    {
     "name": "stdout",
     "output_type": "stream",
     "text": [
      "1\n",
      "1\n",
      "2\n",
      "3\n",
      "5\n",
      "8\n",
      "13\n",
      "21\n",
      "34\n",
      "55\n",
      "89\n",
      "144\n",
      "233\n"
     ]
    }
   ],
   "source": [
    "#while費式數列\n",
    "\n",
    "a=1\n",
    "b=0\n",
    "save=0\n",
    "\n",
    "while a<=100:\n",
    "    save=a+b\n",
    "    a=b\n",
    "    b=save\n",
    "    print(save)"
   ]
  },
  {
   "cell_type": "code",
   "execution_count": 52,
   "id": "ae449489",
   "metadata": {},
   "outputs": [
    {
     "name": "stdout",
     "output_type": "stream",
     "text": [
      "1\n",
      "2\n",
      "3\n",
      "5\n",
      "8\n",
      "13\n",
      "21\n",
      "34\n",
      "55\n",
      "89\n"
     ]
    }
   ],
   "source": [
    "#for費式數列\n",
    "\n",
    "aa=0\n",
    "bb=1\n",
    "c=0 #暫存\n",
    "\n",
    "for c in range(10):\n",
    "    c=aa+bb\n",
    "    aa=bb\n",
    "    bb=c\n",
    "    \n",
    "    print(c)"
   ]
  },
  {
   "cell_type": "code",
   "execution_count": 36,
   "id": "9b9d0c0e",
   "metadata": {},
   "outputs": [
    {
     "name": "stdout",
     "output_type": "stream",
     "text": [
      "2\n",
      "5\n",
      "4\n",
      "輸\n"
     ]
    }
   ],
   "source": [
    "#骰子 while loop\n",
    "import random\n",
    "\n",
    "q=0\n",
    "dic=0\n",
    "\n",
    "while dic!=4:\n",
    "    q+=1\n",
    "    dic=random.randint(1,6)\n",
    "    print(dic)\n",
    "    if dic==4:\n",
    "        print(\"輸\")\n",
    "        break\n",
    "    if q==3:\n",
    "        print(\"贏\")\n",
    "        break\n"
   ]
  },
  {
   "cell_type": "code",
   "execution_count": 48,
   "id": "a0fdb5b7",
   "metadata": {},
   "outputs": [
    {
     "name": "stdout",
     "output_type": "stream",
     "text": [
      "2\n",
      "3\n",
      "4\n",
      "lose\n"
     ]
    }
   ],
   "source": [
    "#骰子 for loop\n",
    "import random\n",
    "\n",
    "\n",
    "p=0\n",
    "for p in range(3):\n",
    "    dice=random.randint(1,6)\n",
    "    print(dice)\n",
    "    if dice==4:\n",
    "        print(\"lose\")\n",
    "        break\n",
    "        \n",
    "if dice!=4:\n",
    "    print(\"win\")\n"
   ]
  },
  {
   "cell_type": "code",
   "execution_count": null,
   "id": "de230921",
   "metadata": {},
   "outputs": [],
   "source": []
  }
 ],
 "metadata": {
  "kernelspec": {
   "display_name": "Python 3 (ipykernel)",
   "language": "python",
   "name": "python3"
  },
  "language_info": {
   "codemirror_mode": {
    "name": "ipython",
    "version": 3
   },
   "file_extension": ".py",
   "mimetype": "text/x-python",
   "name": "python",
   "nbconvert_exporter": "python",
   "pygments_lexer": "ipython3",
   "version": "3.10.9"
  }
 },
 "nbformat": 4,
 "nbformat_minor": 5
}
