{
 "cells": [
  {
   "cell_type": "code",
   "execution_count": 6,
   "id": "54bbaafa",
   "metadata": {},
   "outputs": [
    {
     "name": "stdout",
     "output_type": "stream",
     "text": [
      "7\n",
      "198.4466617\n"
     ]
    }
   ],
   "source": [
    "oz=float(input())\n",
    "g=oz*28.3495231\n",
    "\n",
    "print(g)"
   ]
  },
  {
   "cell_type": "code",
   "execution_count": 2,
   "id": "b6758429",
   "metadata": {},
   "outputs": [
    {
     "name": "stdout",
     "output_type": "stream",
     "text": [
      "aa\n",
      "bb\n",
      "oz3.2\n",
      "90.7184\n"
     ]
    }
   ],
   "source": [
    "def my_first_func():\n",
    "    print(\"bb\")  #順序2-1開始跑func\n",
    "    oz=float(input(\"oz\"))\n",
    "    gram=oz*28.3495\n",
    "    print(gram)\n",
    "\n",
    "print(\"aa\")      #順序1\n",
    "my_first_func()  #順序2進入func"
   ]
  },
  {
   "cell_type": "code",
   "execution_count": 8,
   "id": "bf9b0644",
   "metadata": {},
   "outputs": [
    {
     "name": "stdout",
     "output_type": "stream",
     "text": [
      "oz7\n",
      "198.4465\n"
     ]
    }
   ],
   "source": [
    "def oz_to_gram():\n",
    "    gram=ozz*28.3495\n",
    "    print(gram)\n",
    "\n",
    "ozz=float(input(\"oz\"))\n",
    "oz_to_gram()  "
   ]
  },
  {
   "cell_type": "code",
   "execution_count": 26,
   "id": "aba669e6",
   "metadata": {},
   "outputs": [
    {
     "name": "stdout",
     "output_type": "stream",
     "text": [
      "分鐘55\n",
      "0.9166666666666666 小時 <class 'str'>\n"
     ]
    }
   ],
   "source": [
    "def mintohour(mins):\n",
    "    hour=mins/60\n",
    "    return hour\n",
    "\n",
    "mins=int(input(\"分鐘\"))\n",
    "hourans=str(mintohour(mins))\n",
    "print(hourans,\"小時\",type(hourans))"
   ]
  },
  {
   "cell_type": "code",
   "execution_count": 13,
   "id": "5026c2e7",
   "metadata": {},
   "outputs": [
    {
     "name": "stdout",
     "output_type": "stream",
     "text": [
      "盎司7.2\n",
      "204.1164\n"
     ]
    }
   ],
   "source": [
    "def oz2g(oz): \n",
    "    g=oz*28.3495\n",
    "    print(g)\n",
    "    \n",
    "oz=float(input(\"盎司\"))\n",
    "oz2g(oz) #括號裡面的變數可以直接帶入func"
   ]
  },
  {
   "cell_type": "code",
   "execution_count": 19,
   "id": "fa6f4e52",
   "metadata": {},
   "outputs": [
    {
     "name": "stdout",
     "output_type": "stream",
     "text": [
      "9\n"
     ]
    }
   ],
   "source": [
    "def add(a,b):\n",
    "    c=a+b\n",
    "    return c\n",
    "\n",
    "    \n",
    "total=add(2,7)\n",
    "print(total)"
   ]
  },
  {
   "cell_type": "code",
   "execution_count": 56,
   "id": "276d4a13",
   "metadata": {},
   "outputs": [
    {
     "name": "stdout",
     "output_type": "stream",
     "text": [
      "[2, 2, 3, 4, 6, 9]\n"
     ]
    }
   ],
   "source": [
    "mylist=[1,1,2,3,5,8]\n",
    "newlist=[]\n",
    "\n",
    "for x in mylist:\n",
    "    x+=1\n",
    "    newlist.append(x) #變成list\n",
    "    \n",
    "print(newlist)"
   ]
  },
  {
   "cell_type": "code",
   "execution_count": 62,
   "id": "55300b4d",
   "metadata": {},
   "outputs": [
    {
     "name": "stdout",
     "output_type": "stream",
     "text": [
      "[2, 2, 3, 4, 6, 9]\n"
     ]
    }
   ],
   "source": [
    "def add1(my):\n",
    "    new=[] #屬於func但for迴圈之外\n",
    "    for y in my:\n",
    "        y+=1\n",
    "        new.append(y)\n",
    "    return new\n",
    "\n",
    "\n",
    "my=[1,1,2,3,5,8] #func外\n",
    "\n",
    "final=add1(my)\n",
    "print(final)"
   ]
  },
  {
   "cell_type": "code",
   "execution_count": 49,
   "id": "6cf433f7",
   "metadata": {},
   "outputs": [
    {
     "name": "stdout",
     "output_type": "stream",
     "text": [
      "[1, 2, 1]\n"
     ]
    }
   ],
   "source": []
  },
  {
   "cell_type": "code",
   "execution_count": null,
   "id": "2bb12a64",
   "metadata": {},
   "outputs": [],
   "source": []
  },
  {
   "cell_type": "code",
   "execution_count": null,
   "id": "c95ef276",
   "metadata": {},
   "outputs": [],
   "source": []
  }
 ],
 "metadata": {
  "kernelspec": {
   "display_name": "Python 3 (ipykernel)",
   "language": "python",
   "name": "python3"
  },
  "language_info": {
   "codemirror_mode": {
    "name": "ipython",
    "version": 3
   },
   "file_extension": ".py",
   "mimetype": "text/x-python",
   "name": "python",
   "nbconvert_exporter": "python",
   "pygments_lexer": "ipython3",
   "version": "3.10.9"
  }
 },
 "nbformat": 4,
 "nbformat_minor": 5
}
